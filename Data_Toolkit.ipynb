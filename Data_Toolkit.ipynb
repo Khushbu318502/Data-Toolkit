{
  "nbformat": 4,
  "nbformat_minor": 0,
  "metadata": {
    "colab": {
      "provenance": []
    },
    "kernelspec": {
      "name": "python3",
      "display_name": "Python 3"
    },
    "language_info": {
      "name": "python"
    }
  },
  "cells": [
    {
      "cell_type": "markdown",
      "source": [
        "# Data Toolkit"
      ],
      "metadata": {
        "id": "rnbjJESKo0En"
      }
    },
    {
      "cell_type": "markdown",
      "source": [
        "1. What is NumPy, and why is it widely used in Python ?\n",
        "  - NumPy (Numerical Python) is a powerful open-source Python library used for numerical and scientific computing. It provides support for multidimensional arrays (ndarrays) and a wide range of mathematical functions to operate on these arrays efficiently. Unlike Python’s built-in lists, NumPy arrays are more compact, faster, and optimized for large-scale data processing.\n",
        "\n",
        "  - Why Widely Used:\n",
        "\n",
        "     - Efficiency: Handles large datasets faster than Python lists.\n",
        "\n",
        "     - Convenience: Offers concise syntax for mathematical and matrix operations.\n",
        "\n",
        "     - Foundation for Data Science & AI: Forms the backbone for advanced Python libraries in machine learning, data analysis, and scientific research.\n",
        "\n",
        "  - Example\n",
        "\n",
        "    import numpy as np\n",
        "\n",
        "     Create arrays\n",
        "\n",
        "    arr1 = np.array([1, 2, 3, 4])\n",
        "\n",
        "    arr2 = np.array([5, 6, 7, 8])\n",
        "\n",
        "    Perform vectorized operations\n",
        "\n",
        "    print(arr1 + arr2)   # [ 6  8 10 12]\n",
        "\n",
        "    print(arr1 * 2)      # [2 4 6 8]\n",
        "\n",
        "    print(np.mean(arr1)) # 2.5"
      ],
      "metadata": {
        "id": "j3YIsvY3o56V"
      }
    },
    {
      "cell_type": "markdown",
      "source": [
        "2. How does broadcasting work in NumPy ?\n",
        "  - Broadcasting is a powerful mechanism in NumPy that allows arithmetic operations between arrays of different shapes without explicitly copying data. Instead of writing loops, NumPy automatically expands the smaller array so it matches the shape of the larger one, making operations faster and memory-efficient.\n",
        "\n",
        "  - Broadcasting Rules\n",
        "\n",
        "     When operating on two arrays, NumPy compares their shapes element-wise from right to left:\n",
        "\n",
        "     1. If the dimensions are equal → they are compatible.\n",
        "\n",
        "     2. If one dimension is 1 → it can be stretched (broadcast) to match the other.\n",
        "\n",
        "     3. If the dimensions differ and neither is 1 → broadcasting fails (error).\n",
        "\n",
        "  - Examples\n",
        "\n",
        "     Adding a scalar to an array\n",
        "\n",
        "     import numpy as np\n",
        "\n",
        "     arr = np.array([1, 2, 3])\n",
        "     \n",
        "     print(arr + 5)   # [6 7 8]\n",
        "\n",
        "  - Here, 5 is broadcast to [5, 5, 5]."
      ],
      "metadata": {
        "id": "OzBpznpWY5Rg"
      }
    },
    {
      "cell_type": "markdown",
      "source": [
        "3.  What is a Pandas DataFrame ?\n",
        "  - A Pandas DataFrame is a two-dimensional, tabular data structure in Python, provided by the Pandas library. Think of it like an Excel spreadsheet or a SQL table, where data is organized in rows and columns with labels.\n",
        "\n",
        "     import pandas as pd\n",
        "\n",
        "     Creating a DataFrame from a dictionary\n",
        "\n",
        "     data = {\n",
        "\n",
        "     \"Name\": [\"Alice\", \"Bob\", \"Charlie\"],\n",
        "\n",
        "     \"Age\": [25, 30, 35],\n",
        "\n",
        "     \"City\": [\"New York\", \"London\", \"Paris\"]\n",
        "\n",
        "      }\n",
        "\n",
        "      df = pd.DataFrame(data)\n",
        "\n",
        "      print(df)\n",
        "\n",
        "      Output:-\n",
        "\n",
        "           Name  Age      City\n",
        "\n",
        "      0        Alice   25  New York\n",
        "\n",
        "      1        Bob   30    London\n",
        "\n",
        "      2         Charlie   35     Paris"
      ],
      "metadata": {
        "id": "TvJxNQndbTWD"
      }
    },
    {
      "cell_type": "markdown",
      "source": [
        "4. Explain the use of the groupby() method in Pandas ?\n",
        "  - The groupby() method in Pandas is used to split data into groups based on one or more keys (columns), then apply an operation (like sum, mean, count, etc.), and finally combine the results.\n",
        "\n",
        "     It follows the “Split → Apply → Combine” process:\n",
        "\n",
        "       - Split – Divide the data into groups based on some criteria.\n",
        "\n",
        "       - Apply – Perform a function (sum, mean, count, custom function) on each group.\n",
        "\n",
        "       - Combine – Merge the results into a new DataFrame or Series.\n",
        "\n",
        "  - Why Use groupby()\n",
        "\n",
        "      - Summarize data by categories\n",
        "\n",
        "      - Perform aggregate statistics (e.g., average sales per region)\n",
        "\n",
        "      - Handle large datasets more efficiently\n",
        "\n",
        "      - Enable multi-level grouping for complex analysis\n",
        "\n",
        "    - Example-\n",
        "\n",
        "      import pandas as pd\n",
        "\n",
        "      data = {\n",
        "\n",
        "      \"Department\": [\"HR\", \"HR\", \"IT\", \"IT\", \"Finance\"],\n",
        "\n",
        "       \"Employee\": [\"Alice\", \"Bob\", \"Charlie\", \"David\", \"Eva\"],\n",
        "\n",
        "        \"Salary\": [50000, 55000, 60000, 62000, 58000]\n",
        "       \n",
        "       }\n",
        "\n",
        "         df = pd.DataFrame(data)\n",
        "\n",
        "        Group by Department and calculate average salary\n",
        "\n",
        "        result = df.groupby(\"Department\")[\"Salary\"].mean()\n",
        "\n",
        "        output:-\n",
        "\n",
        "        Department\n",
        "        \n",
        "        Finance    58000.0\n",
        "        \n",
        "        HR         52500.0\n",
        "        \n",
        "        IT         61000.0\n",
        "        \n",
        "        Name: Salary, dtype: float64"
      ],
      "metadata": {
        "id": "ViJofjZBd1mQ"
      }
    },
    {
      "cell_type": "markdown",
      "source": [
        "5. Why is Seaborn preferred for statistical visualizations ?\n",
        "  - Seaborn is a Python data visualization library built on top of Matplotlib. It is widely preferred in data science and statistical analysis because it provides high-level, easy-to-use functions that create beautiful and informative plots with less code.\n",
        "\n",
        "  - Example\n",
        "\n",
        "    import matplotlib.pyplot as plt\n",
        "\n",
        "    import pandas as pd\n",
        "\n",
        "    df = pd.DataFrame({\"x\": [1,2,3,4,5], \"y\": [2,4,5,4,5]})\n",
        "    \n",
        "    plt.scatter(df[\"x\"], df[\"y\"])\n",
        "    \n",
        "    plt.xlabel(\"x\")\n",
        "    \n",
        "    plt.ylabel(\"y\")\n",
        "    \n",
        "    plt.show()\n",
        "\n",
        "    With Seaborn:\n",
        "\n",
        "    import seaborn as sns\n",
        "\n",
        "    import pandas as pd\n",
        "\n",
        "    df = pd.DataFrame({\"x\": [1,2,3,4,5], \"y\": [2,4,5,4,5]})\n",
        "    \n",
        "    sns.scatterplot(x=\"x\", y=\"y\", data=df)"
      ],
      "metadata": {
        "id": "XgixxNDtm48I"
      }
    },
    {
      "cell_type": "markdown",
      "source": [
        "6. What are the differences between NumPy arrays and Python lists ?\n",
        "  - Although both NumPy arrays and Python lists are used to store collections of elements, they are fundamentally different in terms of performance, functionality, and memory usage.\n",
        "\n",
        "  - Example\n",
        "\n",
        "      -  Python List\n",
        "\n",
        "     lst = [1, 2, 3, 4]\n",
        "\n",
        "     result = [x * 2 for x in lst]  # Need a loop\n",
        "\n",
        "     print(result)  # [2, 4, 6, 8]\n",
        "\n",
        "       - NumPy Array\n",
        "\n",
        "      import numpy as np\n",
        "\n",
        "      arr = np.array([1, 2, 3, 4])\n",
        "      \n",
        "      result = arr * 2  # Vectorized operation (no loop needed)\n",
        "      \n",
        "      print(result)  # [2 4 6 8]"
      ],
      "metadata": {
        "id": "psJBnbG1n3ME"
      }
    },
    {
      "cell_type": "markdown",
      "source": [
        "7. What is a heatmap, and when should it be used ?\n",
        "  - A heatmap is a data visualization technique that represents values in a matrix (2D table) format using colors instead of numbers.\n",
        "\n",
        "      - Higher values are usually shown with darker or warmer colors (red, orange, etc.).\n",
        "\n",
        "      - Lower values are shown with lighter or cooler colors (blue, green, etc.).\n",
        "\n",
        "     It helps reveal patterns, correlations, and density at a glance.\n",
        "\n",
        "  - When Should a Heatmap Be Used?\n",
        "\n",
        "     A heatmap is most useful when you want to:\n",
        "\n",
        "       - Visualize Correlations\n",
        "\n",
        "          Example: Show correlation between variables in a dataset (e.g., how \"Age\" relates to \"Income\").\n",
        "\n",
        "       - Analyze Large Datasets Quickly\n",
        "\n",
        "          Instead of reading big tables of numbers, heatmaps show patterns visually.\n",
        "\n",
        "       - Show Intensity or Frequency\n",
        "\n",
        "           Example: Website heatmaps (where users click the most).\n",
        "\n",
        "           Example: Population density across regions.\n",
        "\n",
        "       - Compare Across Two Dimensions\n",
        "\n",
        "           Example: Sales by Month vs Product Category."
      ],
      "metadata": {
        "id": "nxhD5pp9o0EE"
      }
    },
    {
      "cell_type": "markdown",
      "source": [
        "8. What does the term “vectorized operation” mean in NumPy ?\n",
        "  - A vectorized operation in NumPy means applying an operation directly on entire arrays (vectors, matrices, ndarrays) without writing explicit Python loops.\n",
        "\n",
        "     - Instead of iterating element by element, NumPy uses optimized C and Fortran code under the hood.\n",
        "\n",
        "     - This makes operations much faster and more efficient compared to normal Python lists.\n",
        "\n",
        "  - Example:\n",
        "\n",
        "    import numpy as np\n",
        "\n",
        "    arr = np.array([1, 2, 3, 4])\n",
        "    \n",
        "    result = arr * 2   # Vectorized operation\n",
        "    \n",
        "    print(result)  # [2 4 6 8]"
      ],
      "metadata": {
        "id": "fbPYIValwVzu"
      }
    },
    {
      "cell_type": "markdown",
      "source": [
        "9.  How does Matplotlib differ from Plotly ?\n",
        "  - Both Matplotlib and Plotly are popular Python libraries for data visualization, but they serve different purposes and strengths.\n",
        "\n",
        "  - Example:\n",
        "     - Matplotlib (static)\n",
        "\n",
        "       import matplotlib.pyplot as plt\n",
        "\n",
        "       x = [1, 2, 3, 4, 5]\n",
        "     \n",
        "       y = [10, 20, 25, 30, 40]\n",
        "\n",
        "       plt.scatter(x, y)\n",
        "     \n",
        "       plt.title(\"Matplotlib Scatter Plot\")\n",
        "     \n",
        "       plt.show()\n",
        "\n",
        "       Output: Static image (good for research papers, reports).\n",
        "\n",
        "      - Plotly (interactive)\n",
        "\n",
        "        import plotly.express as px\n",
        "\n",
        "        x = [1, 2, 3, 4, 5]\n",
        "        \n",
        "        y = [10, 20, 25, 30, 40]\n",
        "\n",
        "        fig = px.scatter(x=x, y=y, title=\"Plotly Scatter Plot\")\n",
        "        \n",
        "        fig.show()\n",
        "\n",
        "        Output: Interactive plot (hover to see values, zoom, pan)."
      ],
      "metadata": {
        "id": "dr7pYp9aw7Ws"
      }
    },
    {
      "cell_type": "markdown",
      "source": [
        "10. What is the significance of hierarchical indexing in Pandas ?\n",
        "   - Organizes Complex Data\n",
        "\n",
        "        Lets you store and access multi-dimensional data (like time-series by year & month or sales by region & product) in a flat DataFrame.\n",
        "\n",
        "   - Improves Data Analysis\n",
        "\n",
        "        Enables powerful operations such as grouping, slicing, and aggregation across multiple levels.\n",
        "\n",
        "   - Easier Data Selection\n",
        "\n",
        "        You can select subsets of data using combinations of multiple index levels.\n",
        "\n",
        "   - Supports Pivoted Data\n",
        "\n",
        "        Hierarchical indexing is heavily used in pivot tables and groupby() results.\n",
        "\n",
        "   - Bridges Multi-Dimensional Data → 2D Table\n",
        "\n",
        "        Useful when working with multi-level categorical variables.\n",
        "\n",
        "\n",
        "      #Select sales for Region1\n",
        "     \n",
        "      print(df.loc[\"Region1\"])\n",
        "\n",
        "      #Select sales for ProductA in Region2\n",
        "      \n",
        "      print(df.loc[(\"Region2\", \"ProductA\")])\n",
        "\n",
        "    "
      ],
      "metadata": {
        "id": "2kznXCl0yGk1"
      }
    },
    {
      "cell_type": "markdown",
      "source": [
        "11. What is the role of Seaborn’s pairplot() function ?\n",
        "   - Explore Relationships → Helps you quickly see how variables are related to each other.\n",
        "\n",
        "   - Visualize Distributions → Displays each feature’s distribution along the diagonal.\n",
        "\n",
        "   - Detect Patterns → Identifies clusters, trends, or correlations in data.\n",
        "\n",
        "   - Detect Outliers → Outliers can be spotted in scatter plots.\n",
        "\n",
        "   - Data Preprocessing → Useful in the exploratory data analysis (EDA) phase before applying machine learning models.\n",
        "\n",
        "    - Example:\n",
        "\n",
        "       import seaborn as sns\n",
        "    \n",
        "      import matplotlib.pyplot as plt\n",
        "\n",
        "       Load example dataset\n",
        "    \n",
        "        iris = sns.load_dataset(\"iris\")\n",
        "\n",
        "       Create pairplot\n",
        "    \n",
        "       sns.pairplot(iris, hue=\"species\", diag_kind=\"kde\")\n",
        "    \n",
        "       plt.show()"
      ],
      "metadata": {
        "id": "0vDWCXiwzIWg"
      }
    },
    {
      "cell_type": "markdown",
      "source": [
        "12. What is the purpose of the describe() function in Pandas ?\n",
        "  - Quick Data Summary → Gives you a snapshot of dataset statistics.\n",
        "\n",
        "  - Detects Data Quality Issues → Helps spot missing values, outliers, or skewed data.\n",
        "\n",
        "  - Exploratory Data Analysis (EDA) → Used in the early stages of analysis to understand the dataset.\n",
        "\n",
        "  - Saves Time → Instead of calculating stats manually, describe() does it in one step.\n",
        "\n",
        "     - Example:\n",
        "\n",
        "       import pandas as pd\n",
        "\n",
        "        Sample DataFrame\n",
        "        \n",
        "        data = {\n",
        "           \n",
        "           \"Age\": [25, 30, 35, 40, 45],\n",
        "          \n",
        "           \"Salary\": [50000, 55000, 60000, 65000, 70000]\n",
        "          \n",
        "          }\n",
        "\n",
        "          df = pd.DataFrame(data)\n",
        "\n",
        "          Use describe()\n",
        "          \n",
        "          print(df.describe()\n",
        "\n",
        "       - Output:\n",
        "\n",
        "            Age        Salary\n",
        "       \n",
        "       count    5.000000      5.000000\n",
        "       \n",
        "       mean    35.000000  60000.000000\n",
        "       \n",
        "       std      7.905694   7905.694150\n",
        "       \n",
        "       min     25.000000  50000.000000\n",
        "       \n",
        "       25%     30.000000  55000.000000\n",
        "       \n",
        "       50%     35.000000  60000.000000\n",
        "       \n",
        "       75%     40.000000  65000.000000\n",
        "       \n",
        "       max     45.000000  70000.00000"
      ],
      "metadata": {
        "id": "0mD0K7xD03rI"
      }
    },
    {
      "cell_type": "markdown",
      "source": [
        "13. Why is handling missing data important in Pandas ?\n",
        "   - In real-world datasets, missing values (NaN, None) are very common — they might occur due to human error, sensor failure, incomplete surveys, or merging datasets. If not handled properly, they can cause incorrect results, errors, or bias in analysis and machine learning models.\n",
        "\n",
        "   - Example\n",
        "    \n",
        "     import pandas as pd\n",
        "\n",
        "     data = {\n",
        "       \n",
        "       \"Name\": [\"Alice\", \"Bob\", \"Charlie\", \"David\"],\n",
        "        \n",
        "        \"Age\": [25, None, 30, None],\n",
        "       \n",
        "        \"Salary\": [50000, 60000, None, 55000]\n",
        "     \n",
        "     }\n",
        "\n",
        "      df = pd.DataFrame(data)\n",
        "      \n",
        "      print(\"Original DataFrame:\\n\", df)\n",
        "\n",
        "      Handle missing data\n",
        "      \n",
        "      print(\"\\nDrop rows with NaN:\\n\", df.dropna())\n",
        "      \n",
        "      print(\"\\nFill missing values:\\n\", df.fillna({\"Age\": df[\"Age\"].mean(), \"Salary\": 0}))"
      ],
      "metadata": {
        "id": "pjK2m9nI2KCW"
      }
    },
    {
      "cell_type": "markdown",
      "source": [
        "14. What are the benefits of using Plotly for data visualization ?\n",
        "   - Plotly is a powerful, interactive, and web-friendly Python library for data visualization. It is widely used in data science, business intelligence, and dashboards because of its rich features.\n",
        "\n",
        "   - Example\n",
        "     \n",
        "     import plotly.express as px\n",
        "\n",
        "     Sample data\n",
        "     \n",
        "     df = px.data.iris()\n",
        "\n",
        "     Interactive scatter plot\n",
        "     \n",
        "     fig = px.scatter(df, x=\"sepal_width\", y=\"sepal_length\",\n",
        "                \n",
        "                 color=\"species\", size=\"petal_length\",\n",
        "                \n",
        "                 title=\"Iris Dataset - Interactive Plot\")\n",
        "\n",
        "     fig.show()"
      ],
      "metadata": {
        "id": "27fROOBT24Tm"
      }
    },
    {
      "cell_type": "markdown",
      "source": [
        "15. How does NumPy handle multidimensional arrays ?\n",
        "   - At the heart of NumPy is the ndarray (N-dimensional array) object.\n",
        "Unlike Python lists (which are essentially 1D containers that can hold other lists for nesting), NumPy provides true multidimensional arrays stored in contiguous memory blocks, making them efficient and fast.\n",
        "   \n",
        "  - Example-\n",
        "\n",
        "     import numpy as np\n",
        "\n",
        "     Create a 2D array (matrix)\n",
        "    \n",
        "     arr = np.array([[1, 2, 3],\n",
        "               \n",
        "                [4, 5, 6],\n",
        "                [7, 8, 9]])\n",
        "\n",
        "     print(\"Array:\\n\", arr)\n",
        "     \n",
        "     print(\"Dimensions:\", arr.ndim)   # 2\n",
        "     \n",
        "     print(\"Shape:\", arr.shape)       # (3, 3)\n",
        "     \n",
        "     print(\"Element [1,2]:\", arr[1, 2])  # 6\n",
        "\n",
        "     Reshape into 3D array\n",
        "     \n",
        "     arr3d = arr.reshape(3, 3, 1)\n",
        "     \n",
        "     print(\"3D shape:\", arr3d.shape)  # (3, 3, 1)"
      ],
      "metadata": {
        "id": "s0j_FRzI3XMg"
      }
    },
    {
      "cell_type": "markdown",
      "source": [
        "16. What is the role of Bokeh in data visualization ?\n",
        "   - Interactive Plots\n",
        "\n",
        "     Unlike Matplotlib (mostly static), Bokeh creates fully interactive visualizations with zooming, panning, hovering, and tooltips.\n",
        "\n",
        "   - Web-Ready Visualizations\n",
        "\n",
        "     Outputs visualizations as HTML, JavaScript, or JSON, making them easy to embed in web apps.\n",
        "\n",
        "   - Scalable Dashboards\n",
        "\n",
        "     Can create complex dashboards with multiple linked plots, widgets, and real-time streaming data.\n",
        "\n",
        "   - Handles Large Datasets\n",
        "\n",
        "     Optimized for rendering large or streaming datasets in the browser.\n",
        "\n",
        "   - Integration with Other Tools\n",
        "\n",
        "     Works with Flask, Django, and Jupyter notebooks.\n",
        "\n",
        "     Can also connect with Pandas, NumPy, and streaming sources.\n",
        "\n",
        "   - Server Applications\n",
        "\n",
        "     The Bokeh Server allows building dynamic, interactive web apps in Python without writing JavaScript.\n",
        "\n",
        "      - Example:\n",
        "\n",
        "        from bokeh.plotting import figure, show\n",
        "        \n",
        "        from bokeh.io import output_notebook\n",
        "\n",
        "        Enable inline display in Jupyter\n",
        "        \n",
        "        output_notebook()\n",
        "\n",
        "        Create simple interactive plot\n",
        "        \n",
        "        p = figure(title=\"Simple Bokeh Line Chart\", x_axis_label=\"X\", y_axis_label=\"Y\")\n",
        "        \n",
        "        p.line([1, 2, 3, 4, 5], [6, 7, 2, 4, 5], line_width=2)\n",
        "\n",
        "        show(p)"
      ],
      "metadata": {
        "id": "P_ZtKNON4NDl"
      }
    },
    {
      "cell_type": "markdown",
      "source": [
        "17.  Explain the difference between apply() and map() in Pandas\n",
        "   - map() in Pandas\n",
        "\n",
        "       The map() function in Pandas is used only with Series objects (1D data). It applies a given function, dictionary, or mapping element-wise to each value in the Series. This makes it ideal for simple transformations, such as mathematical operations, string manipulations, or replacing values using a mapping. Since it works strictly element by element, it is not designed for row-wise or column-wise operations on a DataFrame.\n",
        "\n",
        "       -  Example:\n",
        "\n",
        "      import pandas as pd\n",
        "      \n",
        "      s = pd.Series([1, 2, 3, 4])\n",
        "\n",
        "      Double each value\n",
        "     \n",
        "      print(s.map(lambda x: x * 2))\n",
        "\n",
        "      Replace values using dictionary\n",
        "     \n",
        "      print(s.map({1: \"One\", 2: \"Two\"}))\n",
        "\n",
        "   - apply() in Pandas\n",
        "\n",
        "        The apply() function is more flexible because it works with both Series and DataFrames. When used with a Series, it behaves similarly to map() by applying a function element-wise. However, its real power shows with DataFrames, where it can apply functions along an axis (rows or columns). This makes apply() better suited for complex transformations, aggregations, or operations involving multiple columns at once.\n",
        "\n",
        "          - Example:\n",
        "\n",
        "         df = pd.DataFrame({\n",
        "          \n",
        "          \"A\": [1, 2, 3],\n",
        "          \n",
        "          \"B\": [4, 5, 6]\n",
        "        \n",
        "        })\n",
        "\n",
        "          Apply to Series\n",
        "          \n",
        "          print(df[\"A\"].apply(lambda x: x**2))\n",
        "\n",
        "          Apply to DataFrame (sum across columns)\n",
        "          \n",
        "          print(df.apply(sum, axis=0))\n",
        "\n",
        "           Apply to DataFrame (row-wise operation)\n",
        "           \n",
        "           print(df.apply(lambda row: row[\"A\"] + row[\"B\"], axis=1))"
      ],
      "metadata": {
        "id": "KTDH_Uv35lAi"
      }
    },
    {
      "cell_type": "markdown",
      "source": [
        "18. What are some advanced features of NumPy ?\n",
        "  - NumPy’s advanced features—like broadcasting, vectorization, fancy indexing, linear algebra tools, random sampling, and FFT—make it a high-performance foundation for numerical computing and machine learning.\n",
        "    \n",
        "  - import numpy as np\n",
        "\n",
        "     Broadcasting: add a 1D array to a 2D array\n",
        "    \n",
        "     A = np.array([[1, 2, 3],\n",
        "              [4, 5, 6]])\n",
        "     \n",
        "     B = np.array([10, 20, 30])\n",
        "     \n",
        "     print(\"Broadcasting:\\n\", A + B)\n",
        "\n",
        "     Fancy indexing: select specific rows/columns\n",
        "     \n",
        "     C = np.array([10, 20, 30, 40, 50])\n",
        "     \n",
        "     print(\"Fancy Indexing:\", C[[0, 2, 4]])  # Picks 1st, 3rd, 5th elements\n",
        "\n",
        "  - Output:\n",
        "     \n",
        "     Broadcasting:\n",
        "      \n",
        "      [[11 22 33]\n",
        "      \n",
        "      [14 25 36]]\n",
        "\n",
        "      Fancy Indexing: [10 30 50]"
      ],
      "metadata": {
        "id": "N2jkfsuX7ODO"
      }
    },
    {
      "cell_type": "markdown",
      "source": [
        "19. How does Pandas simplify time series analysis ?\n",
        "  - Pandas simplifies time series analysis by offering automatic date parsing, easy indexing, resampling, window operations, and shifting — all built on efficient NumPy arrays, making time-based data handling concise and powerful.\n",
        "  \n",
        "  - Example:\n",
        "\n",
        "    import pandas as pd\n",
        "    \n",
        "    import numpy as np\n",
        "\n",
        "        # Create a date range\n",
        "        dates = pd.date_range(start=\"2023-01-01\", periods=10, freq=\"D\")\n",
        "\n",
        "        # Create a simple time series (random sales data)\n",
        "        data = np.random.randint(50, 200, size=10)\n",
        "        ts = pd.DataFrame({\"Date\": dates, \"Sales\": data})\n",
        "        ts.set_index(\"Date\", inplace=True)\n",
        "\n",
        "    print(\"Original Time Series:\")\n",
        "    \n",
        "    print(ts)\n",
        "\n",
        "        # 1. Slice data by date range\n",
        "        print(\"\\nSales in first 5 days of Jan:\")\n",
        "        print(ts[\"2023-01-01\":\"2023-01-05\"])\n",
        "\n",
        "        # 2. Resample to weekly sales sum\n",
        "        print(\"\\nWeekly Sales Sum:\")\n",
        "        print(ts.resample(\"W\").sum())\n",
        "\n",
        "        # 3. Rolling average (3-day moving average)\n",
        "        print(\"\\n3-Day Moving Average:\")\n",
        "        print(ts.rolling(window=3).mean())\n",
        "\n",
        "        # 4. Shift sales by 1 day (lagging)\n",
        "        print(\"\\nSales shifted by 1 day:\")\n",
        "        print(ts.shift(1))"
      ],
      "metadata": {
        "id": "7-kDTrpB-q0m"
      }
    },
    {
      "cell_type": "markdown",
      "source": [
        "20. What is the role of a pivot table in Pandas ?\n",
        "  - In Pandas, a pivot table plays the role of summarizing, aggregating, and reshaping data to make it easier to analyze patterns and relationships in large datasets. It works very similarly to Excel Pivot Tables but with much more flexibility.\n",
        "  \n",
        "  - import pandas as pd\n",
        "\n",
        "          # Sample dataset\n",
        "            data = {\n",
        "             \"Region\": [\"East\", \"West\", \"East\", \"West\", \"East\", \"West\"],\n",
        "             \"Product\": [\"A\", \"A\", \"B\", \"B\", \"C\", \"C\"],\n",
        "             \"Sales\": [200, 120, 340, 150, 300, 220]\n",
        "            }\n",
        "\n",
        "      df = pd.DataFrame(data)\n",
        "    \n",
        "      print(\"Original Data:\")\n",
        "    \n",
        "      print(df)\n",
        "\n",
        "          # Create a pivot table\n",
        "            pivot = pd.pivot_table(df,\n",
        "                       values=\"Sales\",\n",
        "                       index=\"Region\",\n",
        "                       columns=\"Product\",\n",
        "                       aggfunc=\"sum\",\n",
        "                       fill_value=0)\n",
        "\n",
        "      print(\"\\nPivot Table:\")\n",
        "     \n",
        "      print(pivot)\n",
        "\n",
        "     - Output\n",
        "\n",
        "         Pivot Table:\n",
        "         \n",
        "         Product    A    B    C\n",
        "         \n",
        "         Region                \n",
        "        \n",
        "         East     200  340  300\n",
        "         \n",
        "         West     120  150  220"
      ],
      "metadata": {
        "id": "43aEHi75BD89"
      }
    },
    {
      "cell_type": "markdown",
      "source": [
        "21. Why is NumPy’s array slicing faster than Python’s list slicing ?\n",
        "   - NumPy slicing is faster because it uses views on contiguous memory with low-level optimizations, while Python lists create new objects with element-wise copying.\n",
        "\n",
        "   - Example:\n",
        "\n",
        "     import numpy as np\n",
        "     \n",
        "     import time\n",
        "\n",
        "     Python list\n",
        "     \n",
        "     py_list = list(range(10**6))\n",
        "\n",
        "     NumPy array\n",
        "     \n",
        "     np_array = np.arange(10**6)\n",
        "\n",
        "     List slicing\n",
        "     \n",
        "     start = time.time()\n",
        "     \n",
        "     list_slice = py_list[100000:200000]\n",
        "     \n",
        "     end = time.time()\n",
        "     \n",
        "     print(\"List slicing time:\", end - start)\n",
        "\n",
        "     NumPy slicing\n",
        "     \n",
        "     start = time.time()\n",
        "     \n",
        "     array_slice = np_array[100000:200000]\n",
        "     \n",
        "     end = time.time()\n",
        "     \n",
        "     print(\"NumPy slicing time:\", end - start)\n",
        "\n",
        "     Output:\n",
        "\n",
        "     List slicing time: 0.007s\n",
        "     \n",
        "     NumPy slicing time: 0.000001s"
      ],
      "metadata": {
        "id": "m7FgmAmjCM55"
      }
    },
    {
      "cell_type": "markdown",
      "source": [
        "22. What are some common use cases for Seaborn ?\n",
        "   - Seaborn is a statistical data visualization library built on top of Matplotlib. Its main strength is making beautiful, informative, and complex plots with just a few lines of code. It’s widely used in data analysis and machine learning workflows because it integrates well with Pandas DataFrames.\n",
        "\n",
        "   - Example:\n",
        "   \n",
        "     import seaborn as sns\n",
        "     \n",
        "     import pandas as pd\n",
        "     \n",
        "     import matplotlib.pyplot as plt\n",
        "\n",
        "     Sample dataset\n",
        "     \n",
        "     data = {\n",
        "      \n",
        "      \"Math\": [88, 92, 80, 89, 100, 86, 94],\n",
        "      \n",
        "      \"Science\": [84, 94, 82, 91, 96, 85, 90],\n",
        "      \n",
        "      \"English\": [78, 85, 80, 86, 89, 83, 88]\n",
        "       \n",
        "       }\n",
        "      \n",
        "      df = pd.DataFrame(data)\n",
        "\n",
        "      Create correlation heatmap\n",
        "      \n",
        "      sns.heatmap(df.corr(), annot=True, cmap=\"coolwarm\")\n",
        "      \n",
        "      plt.title(\"Correlation Heatmap of Subjects\")\n",
        "      \n",
        "      plt.show()"
      ],
      "metadata": {
        "id": "_2svzdK_FMY4"
      }
    },
    {
      "cell_type": "markdown",
      "source": [
        "# Prcatical Question\n",
        "\n"
      ],
      "metadata": {
        "id": "kSUOjq9zOPp6"
      }
    },
    {
      "cell_type": "markdown",
      "source": [
        "1.  How do you create a 2D NumPy array and calculate the sum of each row ?"
      ],
      "metadata": {
        "id": "ACXou1YlOZSp"
      }
    },
    {
      "cell_type": "code",
      "source": [
        "1. Creating a 2D NumPy Array\n",
        "  import numpy as np\n",
        "\n",
        "# Create a 2D NumPy array (3 rows, 4 columns)\n",
        "arr = np.array([[1, 2, 3, 4],\n",
        "                [5, 6, 7, 8],\n",
        "                [9, 10, 11, 12]])\n",
        "\n",
        "print(\"2D Array:\")\n",
        "print(arr)\n",
        "\n",
        "2. Calculate the Sum of Each Row\n",
        "    # Sum of each row\n",
        "row_sum = np.sum(arr, axis=1)\n",
        "\n",
        "print(\"\\nSum of Each Row:\")\n",
        "print(row_sum)\n",
        "\n",
        "OUTPUT:\n",
        "\n",
        "2D Array:\n",
        "[[ 1  2  3  4]\n",
        " [ 5  6  7  8]\n",
        " [ 9 10 11 12]]\n",
        "\n",
        "Sum of Each Row:\n",
        "[10 26 42]"
      ],
      "metadata": {
        "id": "UJBdTIjOObx_"
      },
      "execution_count": null,
      "outputs": []
    },
    {
      "cell_type": "markdown",
      "source": [
        "2. Write a Pandas script to find the mean of a specific column in a DataFrame ?"
      ],
      "metadata": {
        "id": "__f0jDvbO6lT"
      }
    },
    {
      "cell_type": "code",
      "source": [
        "import pandas as pd\n",
        "\n",
        "# Create a sample DataFrame\n",
        "data = {\n",
        "    \"Name\": [\"Alice\", \"Bob\", \"Charlie\", \"David\"],\n",
        "    \"Age\": [25, 30, 35, 40],\n",
        "    \"Salary\": [50000, 60000, 75000, 80000]\n",
        "}\n",
        "\n",
        "df = pd.DataFrame(data)\n",
        "\n",
        "print(\"Original DataFrame:\")\n",
        "print(df)\n",
        "\n",
        "# Find the mean of a specific column (e.g., Salary)\n",
        "mean_salary = df[\"Salary\"].mean()\n",
        "\n",
        "print(\"\\nMean of Salary column:\", mean_salary)\n",
        "\n",
        "OUTPUT:\n",
        "\n",
        "Original DataFrame:\n",
        "      Name  Age  Salary\n",
        "0    Alice   25   50000\n",
        "1      Bob   30   60000\n",
        "2  Charlie   35   75000\n",
        "3    David   40   80000\n",
        "\n",
        "Mean of Salary column: 66250.0"
      ],
      "metadata": {
        "id": "pv6RCgLsPC6D"
      },
      "execution_count": null,
      "outputs": []
    },
    {
      "cell_type": "markdown",
      "source": [
        "3.  Create a scatter plot using Matplotlib ?\n",
        "  \n"
      ],
      "metadata": {
        "id": "ybhz1eHLQf9N"
      }
    },
    {
      "cell_type": "code",
      "source": [
        "import matplotlib.pyplot as plt\n",
        "\n",
        "# Sample data\n",
        "x = [5, 7, 8, 7, 6, 9, 5, 6, 7, 8]\n",
        "y = [99, 86, 87, 88, 100, 86, 103, 87, 94, 78]\n",
        "\n",
        "# Create scatter plot\n",
        "plt.scatter(x, y, color=\"blue\", marker=\"o\", s=100, alpha=0.7)\n",
        "\n",
        "# Add labels and title\n",
        "plt.xlabel(\"X-axis (Example Values)\")\n",
        "plt.ylabel(\"Y-axis (Example Values)\")\n",
        "plt.title(\"Simple Scatter Plot\")\n",
        "\n",
        "# Show plot\n",
        "plt.show()"
      ],
      "metadata": {
        "id": "JclFvAL4Q74m"
      },
      "execution_count": null,
      "outputs": []
    },
    {
      "cell_type": "markdown",
      "source": [
        "4. How do you calculate the correlation matrix using Seaborn and visualize it with a heatmap ?"
      ],
      "metadata": {
        "id": "TcXyc3CkRApr"
      }
    },
    {
      "cell_type": "code",
      "source": [
        "import pandas as pd\n",
        "import seaborn as sns\n",
        "import matplotlib.pyplot as plt\n",
        "\n",
        "# Sample dataset\n",
        "data = {\n",
        "    \"Math\": [88, 92, 80, 89, 100, 86, 94],\n",
        "    \"Science\": [84, 94, 82, 91, 96, 85, 90],\n",
        "    \"English\": [78, 85, 80, 86, 89, 83, 88],\n",
        "    \"History\": [82, 90, 78, 85, 92, 84, 86]\n",
        "}\n",
        "\n",
        "df = pd.DataFrame(data)\n",
        "\n",
        "# 1. Calculate correlation matrix\n",
        "corr_matrix = df.corr()\n",
        "\n",
        "print(\"Correlation Matrix:\")\n",
        "print(corr_matrix)\n",
        "\n",
        "# 2. Visualize with heatmap\n",
        "plt.figure(figsize=(6,4))\n",
        "sns.heatmap(corr_matrix, annot=True, cmap=\"coolwarm\", fmt=\".2f\")\n",
        "\n",
        "plt.title(\"Correlation Heatmap\")\n",
        "plt.show()"
      ],
      "metadata": {
        "id": "B68mOCQ8RHfm"
      },
      "execution_count": null,
      "outputs": []
    },
    {
      "cell_type": "markdown",
      "source": [
        "5. Generate a bar plot using Plotly ?"
      ],
      "metadata": {
        "id": "RpZCfUTeRQ3i"
      }
    },
    {
      "cell_type": "code",
      "source": [
        "import plotly.express as px\n",
        "import pandas as pd\n",
        "\n",
        "# Sample dataset\n",
        "data = {\n",
        "    \"Fruits\": [\"Apples\", \"Bananas\", \"Cherries\", \"Dates\", \"Elderberries\"],\n",
        "    \"Sales\": [150, 200, 120, 90, 180]\n",
        "}\n",
        "\n",
        "df = pd.DataFrame(data)\n",
        "\n",
        "# Create bar plot\n",
        "fig = px.bar(df, x=\"Fruits\", y=\"Sales\", color=\"Fruits\",\n",
        "             title=\"Fruit Sales Bar Plot\")\n",
        "\n",
        "# Show interactive plot\n",
        "fig.show()"
      ],
      "metadata": {
        "id": "PSFHrqxXRW_d"
      },
      "execution_count": null,
      "outputs": []
    },
    {
      "cell_type": "markdown",
      "source": [
        "6. Create a DataFrame and add a new column based on an existing column ?"
      ],
      "metadata": {
        "id": "A5gvFFMYRjH0"
      }
    },
    {
      "cell_type": "code",
      "source": [
        "import pandas as pd\n",
        "\n",
        "# Create a DataFrame\n",
        "data = {\n",
        "    \"Name\": [\"Alice\", \"Bob\", \"Charlie\", \"David\"],\n",
        "    \"Salary\": [50000, 60000, 75000, 80000]\n",
        "}\n",
        "\n",
        "df = pd.DataFrame(data)\n",
        "print(\"Original DataFrame:\")\n",
        "print(df)\n",
        "\n",
        "# Add a new column 'Bonus' (10% of Salary)\n",
        "df[\"Bonus\"] = df[\"Salary\"] * 0.10\n",
        "\n",
        "print(\"\\nDataFrame with New Column:\")\n",
        "print(df)\n",
        "\n",
        "OUTPUT:\n",
        "\n",
        "Original DataFrame:\n",
        "      Name  Salary\n",
        "0    Alice   50000\n",
        "1      Bob   60000\n",
        "2  Charlie   75000\n",
        "3    David   80000\n",
        "\n",
        "DataFrame with New Column:\n",
        "      Name  Salary   Bonus\n",
        "0    Alice   50000   5000.0\n",
        "1      Bob   60000   6000.0\n",
        "2  Charlie   75000   7500.0\n",
        "3    David   80000   8000.0"
      ],
      "metadata": {
        "id": "LqLQIt3sRo7v"
      },
      "execution_count": null,
      "outputs": []
    },
    {
      "cell_type": "markdown",
      "source": [
        "7. Write a program to perform element-wise multiplication of two NumPy arrays ?"
      ],
      "metadata": {
        "id": "d87t4VDgR3m1"
      }
    },
    {
      "cell_type": "code",
      "source": [
        "import numpy as np\n",
        "\n",
        "# Create two NumPy arrays\n",
        "arr1 = np.array([1, 2, 3, 4])\n",
        "arr2 = np.array([10, 20, 30, 40])\n",
        "\n",
        "print(\"Array 1:\", arr1)\n",
        "print(\"Array 2:\", arr2)\n",
        "\n",
        "# Element-wise multiplication\n",
        "result = arr1 * arr2   # or np.multiply(arr1, arr2)\n",
        "\n",
        "print(\"\\nElement-wise Multiplication Result:\")\n",
        "print(result)\n",
        "\n",
        "OUTPUT:\n",
        "\n",
        "Array 1: [1 2 3 4]\n",
        "Array 2: [10 20 30 40]\n",
        "\n",
        "Element-wise Multiplication Result:\n",
        "[ 10  40  90 160]"
      ],
      "metadata": {
        "id": "e6g0dT1kR9EC"
      },
      "execution_count": null,
      "outputs": []
    },
    {
      "cell_type": "markdown",
      "source": [
        "8. Create a line plot with multiple lines using Matplotlib ?"
      ],
      "metadata": {
        "id": "ClyJxLtHSJCJ"
      }
    },
    {
      "cell_type": "code",
      "source": [
        "import matplotlib.pyplot as plt\n",
        "\n",
        "# Sample data\n",
        "x = [1, 2, 3, 4, 5]\n",
        "y1 = [2, 4, 6, 8, 10]      # Line 1\n",
        "y2 = [1, 3, 5, 7, 9]       # Line 2\n",
        "y3 = [2, 3, 4, 5, 6]       # Line 3\n",
        "\n",
        "# Plot multiple lines\n",
        "plt.plot(x, y1, label=\"Line 1\", marker=\"o\")\n",
        "plt.plot(x, y2, label=\"Line 2\", marker=\"s\")\n",
        "plt.plot(x, y3, label=\"Line 3\", marker=\"^\")\n",
        "\n",
        "# Add labels, title, and legend\n",
        "plt.xlabel(\"X-axis\")\n",
        "plt.ylabel(\"Y-axis\")\n",
        "plt.title(\"Line Plot with Multiple Lines\")\n",
        "plt.legend()\n",
        "\n",
        "# Show plot\n",
        "plt.show()"
      ],
      "metadata": {
        "id": "tV9cOu2kSfDq"
      },
      "execution_count": null,
      "outputs": []
    },
    {
      "cell_type": "markdown",
      "source": [
        "9. Generate a Pandas DataFrame and filter rows where a column value is greater than a threshold ?"
      ],
      "metadata": {
        "id": "QQrmgu9oSxe7"
      }
    },
    {
      "cell_type": "code",
      "source": [
        "import pandas as pd\n",
        "\n",
        "# Create a DataFrame\n",
        "data = {\n",
        "    \"Name\": [\"Alice\", \"Bob\", \"Charlie\", \"David\", \"Eva\"],\n",
        "    \"Age\": [25, 30, 35, 40, 28],\n",
        "    \"Salary\": [50000, 60000, 75000, 80000, 55000]\n",
        "}\n",
        "\n",
        "df = pd.DataFrame(data)\n",
        "print(\"Original DataFrame:\")\n",
        "print(df)\n",
        "\n",
        "# Filter rows where Salary > 60000\n",
        "filtered_df = df[df[\"Salary\"] > 60000]\n",
        "\n",
        "print(\"\\nFiltered DataFrame (Salary > 60000):\")\n",
        "print(filtered_df)\n",
        "\n",
        "OUTPUT :\n",
        "\n",
        "Original DataFrame:\n",
        "      Name  Age  Salary\n",
        "0    Alice   25   50000\n",
        "1      Bob   30   60000\n",
        "2  Charlie   35   75000\n",
        "3    David   40   80000\n",
        "4      Eva   28   55000\n",
        "\n",
        "Filtered DataFrame (Salary > 60000):\n",
        "      Name  Age  Salary\n",
        "2  Charlie   35   75000\n",
        "3    David   40   80000"
      ],
      "metadata": {
        "id": "i9ClBokYS_8t"
      },
      "execution_count": null,
      "outputs": []
    },
    {
      "cell_type": "markdown",
      "source": [
        "10. Create a histogram using Seaborn to visualize a distribution ?"
      ],
      "metadata": {
        "id": "Oy-0VN5eTYE_"
      }
    },
    {
      "cell_type": "code",
      "source": [
        "import seaborn as sns\n",
        "import matplotlib.pyplot as plt\n",
        "import numpy as np\n",
        "\n",
        "# Generate random data (normal distribution)\n",
        "data = np.random.randn(1000)\n",
        "\n",
        "# Create histogram\n",
        "sns.histplot(data, bins=30, kde=True, color=\"skyblue\")\n",
        "\n",
        "# Add title and labels\n",
        "plt.title(\"Distribution of Random Data\")\n",
        "plt.xlabel(\"Value\")\n",
        "plt.ylabel(\"Frequency\")\n",
        "\n",
        "# Show plot\n",
        "plt.show()"
      ],
      "metadata": {
        "id": "JB9TUUzxTuG1"
      },
      "execution_count": null,
      "outputs": []
    },
    {
      "cell_type": "markdown",
      "source": [
        "11. Perform matrix multiplication using NumPy ?"
      ],
      "metadata": {
        "id": "TgeqSGllTxJa"
      }
    },
    {
      "cell_type": "code",
      "source": [
        "import numpy as np\n",
        "\n",
        "# Define two matrices (2x3 and 3x2)\n",
        "A = np.array([[1, 2, 3],\n",
        "              [4, 5, 6]])\n",
        "\n",
        "B = np.array([[7, 8],\n",
        "              [9, 10],\n",
        "              [11, 12]])\n",
        "\n",
        "print(\"Matrix A:\\n\", A)\n",
        "print(\"Matrix B:\\n\", B)\n",
        "\n",
        "# Perform matrix multiplication\n",
        "C = np.dot(A, B)   # or A @ B\n",
        "\n",
        "print(\"\\nResult of Matrix Multiplication (A x B):\\n\", C)\n",
        "\n",
        "OUTPUT:\n",
        "\n",
        "Matrix A:\n",
        " [[1 2 3]\n",
        "  [4 5 6]]\n",
        "\n",
        "Matrix B:\n",
        " [[ 7  8]\n",
        "  [ 9 10]\n",
        "  [11 12]]\n",
        "\n",
        "Result of Matrix Multiplication (A x B):\n",
        " [[ 58  64]\n",
        "  [139 154]]\n"
      ],
      "metadata": {
        "id": "cLYCzg5RT_n5"
      },
      "execution_count": null,
      "outputs": []
    },
    {
      "cell_type": "markdown",
      "source": [
        "12. Use Pandas to load a CSV file and display its first 5 rows ?"
      ],
      "metadata": {
        "id": "U6nawNCiUPMX"
      }
    },
    {
      "cell_type": "code",
      "source": [
        "import pandas as pd\n",
        "\n",
        "# Load CSV file (replace 'data.csv' with your file path)\n",
        "df = pd.read_csv(\"data.csv\")\n",
        "\n",
        "# Display the first 5 rows\n",
        "print(\"First 5 rows of the CSV file:\")\n",
        "print(df.head())"
      ],
      "metadata": {
        "id": "SUCnf5y-UZEh"
      },
      "execution_count": null,
      "outputs": []
    },
    {
      "cell_type": "markdown",
      "source": [
        "13. Create a 3D scatter plot using Plotly ?"
      ],
      "metadata": {
        "id": "L_1KcISEUmFH"
      }
    },
    {
      "cell_type": "code",
      "source": [
        "import plotly.express as px\n",
        "import pandas as pd\n",
        "\n",
        "# Sample dataset\n",
        "data = {\n",
        "    \"X\": [5, 7, 8, 7, 6, 9, 5, 6, 7, 8],\n",
        "    \"Y\": [99, 86, 87, 88, 100, 86, 103, 87, 94, 78],\n",
        "    \"Z\": [50, 60, 65, 70, 80, 75, 85, 90, 95, 100],\n",
        "    \"Category\": [\"A\", \"B\", \"A\", \"B\", \"A\", \"B\", \"A\", \"B\", \"A\", \"B\"]\n",
        "}\n",
        "\n",
        "df = pd.DataFrame(data)\n",
        "\n",
        "# Create 3D scatter plot\n",
        "fig = px.scatter_3d(df, x=\"X\", y=\"Y\", z=\"Z\",\n",
        "                    color=\"Category\",  # color points by category\n",
        "                    size=\"Z\",          # point size based on Z\n",
        "                    symbol=\"Category\", # different symbols for categories\n",
        "                    title=\"3D Scatter Plot Example\")\n",
        "\n",
        "# Show interactive plot\n",
        "fig.show()"
      ],
      "metadata": {
        "id": "vrf2QaFhUx4Y"
      },
      "execution_count": null,
      "outputs": []
    }
  ]
}